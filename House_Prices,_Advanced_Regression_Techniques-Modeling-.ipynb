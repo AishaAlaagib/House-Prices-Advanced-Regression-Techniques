{
 "cells": [
  {
   "cell_type": "code",
   "execution_count": 44,
   "metadata": {},
   "outputs": [
    {
     "data": {
      "text/html": [
       "<script>\n",
       "code_show=true; \n",
       "function code_toggle() {\n",
       " if (code_show){\n",
       " $('div.input').hide();\n",
       " } else {\n",
       " $('div.input').show();\n",
       " }\n",
       " code_show = !code_show\n",
       "} \n",
       "$( document ).ready(code_toggle);\n",
       "</script>\n",
       "<form action=\"javascript:code_toggle()\"><input type=\"submit\" value=\"Click here to toggle on/off the raw code.\"></form>"
      ],
      "text/plain": [
       "<IPython.core.display.HTML object>"
      ]
     },
     "execution_count": 44,
     "metadata": {},
     "output_type": "execute_result"
    }
   ],
   "source": [
    "from IPython.display import HTML\n",
    "from IPython.display import Image\n",
    "\n",
    "HTML('''<script>\n",
    "code_show=true; \n",
    "function code_toggle() {\n",
    " if (code_show){\n",
    " $('div.input').hide();\n",
    " } else {\n",
    " $('div.input').show();\n",
    " }\n",
    " code_show = !code_show\n",
    "} \n",
    "$( document ).ready(code_toggle);\n",
    "</script>\n",
    "<form action=\"javascript:code_toggle()\"><input type=\"submit\" value=\"Click here to toggle on/off the raw code.\"></form>''')"
   ]
  },
  {
   "cell_type": "code",
   "execution_count": 45,
   "metadata": {},
   "outputs": [],
   "source": [
    "from plot_lib import plot_data, plot_model, set_default"
   ]
  },
  {
   "cell_type": "code",
   "execution_count": null,
   "metadata": {},
   "outputs": [],
   "source": []
  },
  {
   "cell_type": "code",
   "execution_count": null,
   "metadata": {},
   "outputs": [],
   "source": []
  },
  {
   "cell_type": "markdown",
   "metadata": {},
   "source": [
    "# Running the Models"
   ]
  },
  {
   "cell_type": "code",
   "execution_count": 1,
   "metadata": {},
   "outputs": [],
   "source": [
    "# Load libraries\n",
    "from sklearn.linear_model    import ElasticNet, Lasso,  BayesianRidge, LassoLarsIC\n",
    "from sklearn.ensemble        import RandomForestRegressor as rfr,  GradientBoostingRegressor\n",
    "from sklearn.kernel_ridge    import KernelRidge\n",
    "from sklearn.pipeline        import make_pipeline\n",
    "from sklearn.preprocessing   import RobustScaler\n",
    "from sklearn.base            import BaseEstimator, TransformerMixin, RegressorMixin, clone\n",
    "from sklearn.model_selection import KFold, cross_val_score, train_test_split\n",
    "from sklearn.metrics         import mean_squared_error"
   ]
  },
  {
   "cell_type": "code",
   "execution_count": 2,
   "metadata": {},
   "outputs": [],
   "source": [
    "## Load data\n",
    "import pandas as pd\n",
    "import numpy  as np\n",
    "import matplotlib.pyplot as plt\n",
    "%matplotlib inline"
   ]
  },
  {
   "cell_type": "code",
   "execution_count": 3,
   "metadata": {},
   "outputs": [],
   "source": [
    "test = pd.read_csv('test.csv')\n",
    "test_ID = test['Id']"
   ]
  },
  {
   "cell_type": "code",
   "execution_count": 4,
   "metadata": {},
   "outputs": [],
   "source": [
    "train   = pd.read_csv('train_cleaning.csv')\n",
    "test    = pd.read_csv('test_cleaning.csv')\n",
    "y_train = pd.read_csv('y_train.csv')"
   ]
  },
  {
   "cell_type": "code",
   "execution_count": 5,
   "metadata": {},
   "outputs": [],
   "source": [
    "y_train = y_train.values.ravel()"
   ]
  },
  {
   "cell_type": "code",
   "execution_count": null,
   "metadata": {},
   "outputs": [],
   "source": []
  },
  {
   "cell_type": "code",
   "execution_count": 6,
   "metadata": {},
   "outputs": [
    {
     "name": "stdout",
     "output_type": "stream",
     "text": [
      "X_train:  (1020, 252) \n",
      "X_test:  (438, 252) \n",
      "Y_train:  (1020,) \n",
      "Y_test:  (438,)\n"
     ]
    }
   ],
   "source": [
    "# Next we want to sample our training data to test for performance of robustness ans accuracy, before applying to the test data\n",
    "X_train, X_test, Y_train, Y_test = train_test_split(train, y_train, test_size=0.3, random_state=42)\n",
    "\n",
    "# X_train = predictor features for estimation dataset\n",
    "# X_test = predictor variables for validation dataset\n",
    "# Y_train = target variable for the estimation dataset\n",
    "# Y_test = target variable for the estimation dataset\n",
    "\n",
    "print('X_train: ', X_train.shape, '\\nX_test: ', X_test.shape, '\\nY_train: ', Y_train.shape, '\\nY_test: ', Y_test.shape)"
   ]
  },
  {
   "cell_type": "markdown",
   "metadata": {},
   "source": [
    "Got this from a kaggler- it's pretty handy, letting us select the number of folds and letting us shuffle the data when we run it"
   ]
  },
  {
   "cell_type": "code",
   "execution_count": 7,
   "metadata": {},
   "outputs": [],
   "source": [
    "n_folds = 10\n",
    "#this looks better, lets me use kfolds\n",
    "def rmsle_cv(model):\n",
    "    kf = KFold(n_folds, shuffle=True, random_state=1).get_n_splits(train)\n",
    "    rmse= np.sqrt(-cross_val_score(model, train, y_train, scoring=\"neg_mean_squared_error\", cv = kf))\n",
    "    return(rmse)"
   ]
  },
  {
   "cell_type": "markdown",
   "metadata": {},
   "source": [
    "Lasso was the first feature that I spotchecked all my changes against- It runs very quickly so it's easy to iterate off of."
   ]
  },
  {
   "cell_type": "code",
   "execution_count": 8,
   "metadata": {},
   "outputs": [],
   "source": [
    "lasso = make_pipeline(RobustScaler(), Lasso(alpha =0.00099, random_state=1))"
   ]
  },
  {
   "cell_type": "code",
   "execution_count": 9,
   "metadata": {},
   "outputs": [
    {
     "name": "stdout",
     "output_type": "stream",
     "text": [
      "Lasso score: 0.1156 (0.0132)\n"
     ]
    }
   ],
   "source": [
    "score = rmsle_cv(lasso)\n",
    "print(\"Lasso score: {:.4f} ({:.4f})\".format(score.mean(), score.std()))"
   ]
  },
  {
   "cell_type": "code",
   "execution_count": 10,
   "metadata": {},
   "outputs": [
    {
     "data": {
      "text/plain": [
       "Pipeline(memory=None,\n",
       "     steps=[('robustscaler', RobustScaler(copy=True, quantile_range=(25.0, 75.0), with_centering=True,\n",
       "       with_scaling=True)), ('lasso', Lasso(alpha=0.00099, copy_X=True, fit_intercept=True, max_iter=1000,\n",
       "   normalize=False, positive=False, precompute=False, random_state=1,\n",
       "   selection='cyclic', tol=0.0001, warm_start=False))])"
      ]
     },
     "execution_count": 10,
     "metadata": {},
     "output_type": "execute_result"
    }
   ],
   "source": [
    "lasso.fit(X_train, Y_train)"
   ]
  },
  {
   "cell_type": "code",
   "execution_count": 11,
   "metadata": {},
   "outputs": [],
   "source": [
    "x = list(zip(train.columns, lasso.steps[1][1].coef_))\n",
    "x.sort(key = lambda x: x[1])\n",
    "df = pd.DataFrame(x, columns=['Var', 'Coeff'])\n",
    "\n",
    "top_pos = df[\"Coeff\"][-20:]\n",
    "top_neg = df[\"Coeff\"][:20]\n",
    "top_pos_names = df[\"Var\"][-20:]\n",
    "top_neg_names = df[\"Var\"][:20]\n",
    "\n",
    "top_coefs = np.hstack([top_neg, top_pos])\n",
    "top_names = np.hstack([top_neg_names, top_pos_names])"
   ]
  },
  {
   "cell_type": "code",
   "execution_count": 12,
   "metadata": {},
   "outputs": [
    {
     "data": {
      "text/plain": [
       "([<matplotlib.axis.XTick at 0x7f46602522b0>,\n",
       "  <matplotlib.axis.XTick at 0x7f46602bdc18>,\n",
       "  <matplotlib.axis.XTick at 0x7f46602bd940>,\n",
       "  <matplotlib.axis.XTick at 0x7f46601d6550>,\n",
       "  <matplotlib.axis.XTick at 0x7f466077c7f0>,\n",
       "  <matplotlib.axis.XTick at 0x7f46601d6ac8>,\n",
       "  <matplotlib.axis.XTick at 0x7f46601d6e80>,\n",
       "  <matplotlib.axis.XTick at 0x7f46601e84a8>,\n",
       "  <matplotlib.axis.XTick at 0x7f46601e8978>,\n",
       "  <matplotlib.axis.XTick at 0x7f46601e8e48>,\n",
       "  <matplotlib.axis.XTick at 0x7f46601ef358>,\n",
       "  <matplotlib.axis.XTick at 0x7f46601ef828>,\n",
       "  <matplotlib.axis.XTick at 0x7f46601efcf8>,\n",
       "  <matplotlib.axis.XTick at 0x7f46601efdd8>,\n",
       "  <matplotlib.axis.XTick at 0x7f46601e88d0>,\n",
       "  <matplotlib.axis.XTick at 0x7f466077c748>,\n",
       "  <matplotlib.axis.XTick at 0x7f46601f8518>,\n",
       "  <matplotlib.axis.XTick at 0x7f46601f89e8>,\n",
       "  <matplotlib.axis.XTick at 0x7f46601f8eb8>,\n",
       "  <matplotlib.axis.XTick at 0x7f46602003c8>,\n",
       "  <matplotlib.axis.XTick at 0x7f4660200898>,\n",
       "  <matplotlib.axis.XTick at 0x7f4660200d68>,\n",
       "  <matplotlib.axis.XTick at 0x7f4660208278>,\n",
       "  <matplotlib.axis.XTick at 0x7f4660200470>,\n",
       "  <matplotlib.axis.XTick at 0x7f46601f84e0>,\n",
       "  <matplotlib.axis.XTick at 0x7f4660208518>,\n",
       "  <matplotlib.axis.XTick at 0x7f4660208978>,\n",
       "  <matplotlib.axis.XTick at 0x7f4660208e48>,\n",
       "  <matplotlib.axis.XTick at 0x7f4660192358>,\n",
       "  <matplotlib.axis.XTick at 0x7f4660192828>,\n",
       "  <matplotlib.axis.XTick at 0x7f4660192cf8>,\n",
       "  <matplotlib.axis.XTick at 0x7f466019a208>,\n",
       "  <matplotlib.axis.XTick at 0x7f4660192780>,\n",
       "  <matplotlib.axis.XTick at 0x7f4660208a20>,\n",
       "  <matplotlib.axis.XTick at 0x7f4660200710>,\n",
       "  <matplotlib.axis.XTick at 0x7f466019a978>,\n",
       "  <matplotlib.axis.XTick at 0x7f466019ae48>,\n",
       "  <matplotlib.axis.XTick at 0x7f46601a2358>,\n",
       "  <matplotlib.axis.XTick at 0x7f46601a2828>,\n",
       "  <matplotlib.axis.XTick at 0x7f46601a2cf8>],\n",
       " <a list of 40 Text xticklabel objects>)"
      ]
     },
     "execution_count": 12,
     "metadata": {},
     "output_type": "execute_result"
    },
    {
     "data": {
      "image/png": "[encoded data removed]",
      "text/plain": [
       "<Figure size 1080x360 with 1 Axes>"
      ]
     },
     "metadata": {
      "needs_background": "light"
     },
     "output_type": "display_data"
    }
   ],
   "source": [
    "plt.figure(figsize = (15, 5))\n",
    "colors = ['red' if c < 0 else 'blue' for c in top_coefs]\n",
    "plt.bar(np.arange(40), top_coefs, color = colors)\n",
    "feature_names = np.array(train.columns)\n",
    "plt.xticks(np.arange(40), top_names, rotation = 60, ha = 'right')"
   ]
  },
  {
   "cell_type": "markdown",
   "metadata": {},
   "source": [
    "switched away from boxcox to log1p and instantly improved by over 10%"
   ]
  },
  {
   "cell_type": "markdown",
   "metadata": {},
   "source": [
    "ENet ended up being our best individual performer before we switched to stacking.  "
   ]
  },
  {
   "cell_type": "code",
   "execution_count": 13,
   "metadata": {},
   "outputs": [],
   "source": [
    "ENet = make_pipeline(RobustScaler(), ElasticNet(alpha=0.0005, l1_ratio=.9, random_state=1))"
   ]
  },
  {
   "cell_type": "code",
   "execution_count": 14,
   "metadata": {},
   "outputs": [],
   "source": [
    "#ok so alpha here is the tuning parameter- L1 ratio is the % of penalty assigned to L1 or L2"
   ]
  },
  {
   "cell_type": "code",
   "execution_count": 15,
   "metadata": {},
   "outputs": [
    {
     "name": "stdout",
     "output_type": "stream",
     "text": [
      "ElasticNet score: 0.1130 (0.0135)\n"
     ]
    }
   ],
   "source": [
    "score = rmsle_cv(ENet)\n",
    "print(\"ElasticNet score: {:.4f} ({:.4f})\".format(score.mean(), score.std()))"
   ]
  },
  {
   "cell_type": "code",
   "execution_count": 16,
   "metadata": {},
   "outputs": [
    {
     "data": {
      "text/plain": [
       "Pipeline(memory=None,\n",
       "     steps=[('robustscaler', RobustScaler(copy=True, quantile_range=(25.0, 75.0), with_centering=True,\n",
       "       with_scaling=True)), ('elasticnet', ElasticNet(alpha=0.0005, copy_X=True, fit_intercept=True, l1_ratio=0.9,\n",
       "      max_iter=1000, normalize=False, positive=False, precompute=False,\n",
       "      random_state=1, selection='cyclic', tol=0.0001, warm_start=False))])"
      ]
     },
     "execution_count": 16,
     "metadata": {},
     "output_type": "execute_result"
    }
   ],
   "source": [
    "ENet.fit(X_train, Y_train)"
   ]
  },
  {
   "cell_type": "code",
   "execution_count": 17,
   "metadata": {},
   "outputs": [],
   "source": [
    "x = list(zip(train.columns, ENet.steps[1][1].coef_))\n",
    "x.sort(key = lambda x: x[1])\n",
    "df = pd.DataFrame(x, columns=['Var', 'Coeff'])\n",
    "\n",
    "top_pos = df[\"Coeff\"][-20:]\n",
    "top_neg = df[\"Coeff\"][:20]\n",
    "top_pos_names = df[\"Var\"][-20:]\n",
    "top_neg_names = df[\"Var\"][:20]\n",
    "\n",
    "top_coefs = np.hstack([top_neg, top_pos])\n",
    "top_names = np.hstack([top_neg_names, top_pos_names])"
   ]
  },
  {
   "cell_type": "code",
   "execution_count": 18,
   "metadata": {},
   "outputs": [
    {
     "data": {
      "text/plain": [
       "([<matplotlib.axis.XTick at 0x7f466012db70>,\n",
       "  <matplotlib.axis.XTick at 0x7f466012d3c8>,\n",
       "  <matplotlib.axis.XTick at 0x7f46601efe48>,\n",
       "  <matplotlib.axis.XTick at 0x7f465f280cf8>,\n",
       "  <matplotlib.axis.XTick at 0x7f465f2221d0>,\n",
       "  <matplotlib.axis.XTick at 0x7f465f2226a0>,\n",
       "  <matplotlib.axis.XTick at 0x7f465f222b70>,\n",
       "  <matplotlib.axis.XTick at 0x7f465f22a0f0>,\n",
       "  <matplotlib.axis.XTick at 0x7f465f222668>,\n",
       "  <matplotlib.axis.XTick at 0x7f465f22a390>,\n",
       "  <matplotlib.axis.XTick at 0x7f465f22a860>,\n",
       "  <matplotlib.axis.XTick at 0x7f465f22ad30>,\n",
       "  <matplotlib.axis.XTick at 0x7f465f232240>,\n",
       "  <matplotlib.axis.XTick at 0x7f465f232710>,\n",
       "  <matplotlib.axis.XTick at 0x7f465f232be0>,\n",
       "  <matplotlib.axis.XTick at 0x7f465f23b160>,\n",
       "  <matplotlib.axis.XTick at 0x7f465f23b5c0>,\n",
       "  <matplotlib.axis.XTick at 0x7f465f2326d8>,\n",
       "  <matplotlib.axis.XTick at 0x7f465f22a908>,\n",
       "  <matplotlib.axis.XTick at 0x7f465f23b940>,\n",
       "  <matplotlib.axis.XTick at 0x7f465f23bd30>,\n",
       "  <matplotlib.axis.XTick at 0x7f465f244240>,\n",
       "  <matplotlib.axis.XTick at 0x7f465f244710>,\n",
       "  <matplotlib.axis.XTick at 0x7f465f244be0>,\n",
       "  <matplotlib.axis.XTick at 0x7f465f1cd160>,\n",
       "  <matplotlib.axis.XTick at 0x7f465f1cd5c0>,\n",
       "  <matplotlib.axis.XTick at 0x7f465f1cda90>,\n",
       "  <matplotlib.axis.XTick at 0x7f465f244a58>,\n",
       "  <matplotlib.axis.XTick at 0x7f465f232208>,\n",
       "  <matplotlib.axis.XTick at 0x7f465f1cd198>,\n",
       "  <matplotlib.axis.XTick at 0x7f465f1d5240>,\n",
       "  <matplotlib.axis.XTick at 0x7f465f1d5710>,\n",
       "  <matplotlib.axis.XTick at 0x7f465f1d5be0>,\n",
       "  <matplotlib.axis.XTick at 0x7f465f1dd160>,\n",
       "  <matplotlib.axis.XTick at 0x7f465f1dd5c0>,\n",
       "  <matplotlib.axis.XTick at 0x7f465f1dda90>,\n",
       "  <matplotlib.axis.XTick at 0x7f465f1ddf60>,\n",
       "  <matplotlib.axis.XTick at 0x7f465f1dd588>,\n",
       "  <matplotlib.axis.XTick at 0x7f465f1cd0b8>,\n",
       "  <matplotlib.axis.XTick at 0x7f465f1e62b0>],\n",
       " <a list of 40 Text xticklabel objects>)"
      ]
     },
     "execution_count": 18,
     "metadata": {},
     "output_type": "execute_result"
    },
    {
     "data": {
      "image/png": "[encoded data removed]",
      "text/plain": [
       "<Figure size 1080x360 with 1 Axes>"
      ]
     },
     "metadata": {
      "needs_background": "light"
     },
     "output_type": "display_data"
    }
   ],
   "source": [
    "plt.figure(figsize = (15, 5))\n",
    "colors = ['red' if c < 0 else 'blue' for c in top_coefs]\n",
    "plt.bar(np.arange(40), top_coefs, color = colors)\n",
    "feature_names = np.array(train.columns)\n",
    "plt.xticks(np.arange(40), top_names, rotation = 60, ha = 'right')"
   ]
  },
  {
   "cell_type": "markdown",
   "metadata": {},
   "source": [
    "- .9 l1_ratio gives score: 0.1098 (0.0145)\n",
    "- .5  gives ElasticNet score: 0.1108 (0.0144)\n",
    "- .7 gives .1099 (0.0146)\n",
    "- alpha=0.0003, l1_ratio=.9 gives score: 0.1107 (0.0145) # while better here it's worse in my actual score"
   ]
  },
  {
   "cell_type": "code",
   "execution_count": 19,
   "metadata": {},
   "outputs": [],
   "source": [
    "GBoost = GradientBoostingRegressor(n_estimators=3000, learning_rate=0.05,\n",
    "                                   max_depth=4, max_features='sqrt',\n",
    "                                   min_samples_leaf=15, min_samples_split=10, \n",
    "                                   loss='huber', random_state =5)"
   ]
  },
  {
   "cell_type": "code",
   "execution_count": 20,
   "metadata": {},
   "outputs": [
    {
     "name": "stdout",
     "output_type": "stream",
     "text": [
      "Gradient Boosting score: 0.1147 (0.0156)\n",
      "\n"
     ]
    }
   ],
   "source": [
    "score = rmsle_cv(GBoost)\n",
    "print(\"Gradient Boosting score: {:.4f} ({:.4f})\\n\".format(score.mean(), score.std()))"
   ]
  },
  {
   "cell_type": "code",
   "execution_count": 21,
   "metadata": {},
   "outputs": [
    {
     "data": {
      "text/plain": [
       "GradientBoostingRegressor(alpha=0.9, criterion='friedman_mse', init=None,\n",
       "             learning_rate=0.05, loss='huber', max_depth=4,\n",
       "             max_features='sqrt', max_leaf_nodes=None,\n",
       "             min_impurity_decrease=0.0, min_impurity_split=None,\n",
       "             min_samples_leaf=15, min_samples_split=10,\n",
       "             min_weight_fraction_leaf=0.0, n_estimators=3000,\n",
       "             n_iter_no_change=None, presort='auto', random_state=5,\n",
       "             subsample=1.0, tol=0.0001, validation_fraction=0.1, verbose=0,\n",
       "             warm_start=False)"
      ]
     },
     "execution_count": 21,
     "metadata": {},
     "output_type": "execute_result"
    }
   ],
   "source": [
    "GBoost.fit(X_train, Y_train)"
   ]
  },
  {
   "cell_type": "code",
   "execution_count": 22,
   "metadata": {},
   "outputs": [],
   "source": [
    "index = np.argsort(GBoost.feature_importances_)\n",
    "features = GBoost.feature_importances_[index]\n",
    "features = features[-40:]\n",
    "names = np.array(X_train)[index]\n",
    "names = names[-40:0]\n",
    "\n",
    "# # plot as bar chart\n",
    "# plt.barh(np.arange(len(names)), features)\n",
    "# plt.yticks(np.arange(len(names)) + .25, names)\n",
    "# _ = plt.xlabel('Relative importance')"
   ]
  },
  {
   "cell_type": "code",
   "execution_count": 23,
   "metadata": {},
   "outputs": [
    {
     "data": {
      "image/png": "[encoded data removed]",
      "text/plain": [
       "<Figure size 720x720 with 1 Axes>"
      ]
     },
     "metadata": {
      "needs_background": "light"
     },
     "output_type": "display_data"
    }
   ],
   "source": [
    "x = list(zip(train.columns, GBoost.feature_importances_))\n",
    "x.sort(key = lambda x: x[1])\n",
    "df = pd.DataFrame(x, columns = ['Var','Importance'])\n",
    "top = df[\"Importance\"][-10:]\n",
    "top_name = df['Var'][-10:]\n",
    "plt.figure(figsize = (10, 10))\n",
    "plt.barh(np.arange(len(top_name)), top)\n",
    "plt.yticks(np.arange(len(top_name))+ 0.25, np.array(top_name))\n",
    "_ = plt.xlabel('Importance')"
   ]
  },
  {
   "cell_type": "markdown",
   "metadata": {},
   "source": [
    "Kernel Ridge was another model I tried out but ended up tossing due to low starting scores- I didn't want to bother spending the time on a model that wasn't performing relatively well to begin with"
   ]
  },
  {
   "cell_type": "code",
   "execution_count": 24,
   "metadata": {},
   "outputs": [],
   "source": [
    "KRR = KernelRidge(alpha=0.6, kernel='polynomial', degree=2, coef0=2.5)"
   ]
  },
  {
   "cell_type": "code",
   "execution_count": 25,
   "metadata": {},
   "outputs": [
    {
     "name": "stdout",
     "output_type": "stream",
     "text": [
      "Kernel Ridge score: 0.1185 (0.0134)\n",
      "\n"
     ]
    }
   ],
   "source": [
    "score = rmsle_cv(KRR)\n",
    "print(\"Kernel Ridge score: {:.4f} ({:.4f})\\n\".format(score.mean(), score.std()))"
   ]
  },
  {
   "cell_type": "code",
   "execution_count": null,
   "metadata": {},
   "outputs": [],
   "source": []
  },
  {
   "cell_type": "code",
   "execution_count": 26,
   "metadata": {},
   "outputs": [],
   "source": [
    "LGBoost = GradientBoostingRegressor(n_estimators=1000, learning_rate=0.05,\n",
    "                                   max_depth=2, max_features='sqrt',\n",
    "                                    min_samples_leaf=15, min_samples_split=10,\n",
    "                                    loss='huber', random_state =5)"
   ]
  },
  {
   "cell_type": "code",
   "execution_count": 27,
   "metadata": {},
   "outputs": [
    {
     "name": "stdout",
     "output_type": "stream",
     "text": [
      "LGBoost score: 0.1139 (0.0148)\n",
      "\n"
     ]
    }
   ],
   "source": [
    "score = rmsle_cv(LGBoost)\n",
    "print(\"LGBoost score: {:.4f} ({:.4f})\\n\" .format(score.mean(), score.std()))"
   ]
  },
  {
   "cell_type": "code",
   "execution_count": 28,
   "metadata": {},
   "outputs": [
    {
     "data": {
      "text/plain": [
       "GradientBoostingRegressor(alpha=0.9, criterion='friedman_mse', init=None,\n",
       "             learning_rate=0.05, loss='huber', max_depth=2,\n",
       "             max_features='sqrt', max_leaf_nodes=None,\n",
       "             min_impurity_decrease=0.0, min_impurity_split=None,\n",
       "             min_samples_leaf=15, min_samples_split=10,\n",
       "             min_weight_fraction_leaf=0.0, n_estimators=1000,\n",
       "             n_iter_no_change=None, presort='auto', random_state=5,\n",
       "             subsample=1.0, tol=0.0001, validation_fraction=0.1, verbose=0,\n",
       "             warm_start=False)"
      ]
     },
     "execution_count": 28,
     "metadata": {},
     "output_type": "execute_result"
    }
   ],
   "source": [
    "LGBoost.fit(X_train, Y_train)"
   ]
  },
  {
   "cell_type": "code",
   "execution_count": 29,
   "metadata": {},
   "outputs": [
    {
     "data": {
      "image/png": "[encoded data removed]",
      "text/plain": [
       "<Figure size 720x720 with 1 Axes>"
      ]
     },
     "metadata": {
      "needs_background": "light"
     },
     "output_type": "display_data"
    }
   ],
   "source": [
    "x = list(zip(train.columns, LGBoost.feature_importances_))\n",
    "x.sort(key = lambda x: x[1])\n",
    "df = pd.DataFrame(x, columns = ['Var','Importance'])\n",
    "top = df[\"Importance\"][-10:]\n",
    "top_name = df['Var'][-10:]\n",
    "plt.figure(figsize = (10, 10))\n",
    "plt.barh(np.arange(len(top_name)), top)\n",
    "plt.yticks(np.arange(len(top_name))+ 0.25, np.array(top_name))\n",
    "_ = plt.xlabel('Importance')"
   ]
  },
  {
   "cell_type": "markdown",
   "metadata": {},
   "source": [
    "Random forest- this one also underperformed out of the gate and also took relatively long to run compared to my linear models so I ended up discarding it instead of trying to tune it."
   ]
  },
  {
   "cell_type": "code",
   "execution_count": 30,
   "metadata": {},
   "outputs": [],
   "source": [
    "rfr = rfr(random_state=0,\n",
    "        n_estimators=1000, max_depth=6,  max_features='sqrt')"
   ]
  },
  {
   "cell_type": "code",
   "execution_count": 31,
   "metadata": {},
   "outputs": [
    {
     "name": "stdout",
     "output_type": "stream",
     "text": [
      "rfr score: 0.1609 (0.0153)\n",
      "\n"
     ]
    }
   ],
   "source": [
    "score = rmsle_cv(rfr)\n",
    "print(\"rfr score: {:.4f} ({:.4f})\\n\" .format(score.mean(), score.std()))"
   ]
  },
  {
   "cell_type": "markdown",
   "metadata": {},
   "source": [
    "# Submitting the original models to kaggle"
   ]
  },
  {
   "cell_type": "code",
   "execution_count": 32,
   "metadata": {},
   "outputs": [
    {
     "data": {
      "text/plain": [
       "Pipeline(memory=None,\n",
       "     steps=[('robustscaler', RobustScaler(copy=True, quantile_range=(25.0, 75.0), with_centering=True,\n",
       "       with_scaling=True)), ('elasticnet', ElasticNet(alpha=0.0005, copy_X=True, fit_intercept=True, l1_ratio=0.9,\n",
       "      max_iter=1000, normalize=False, positive=False, precompute=False,\n",
       "      random_state=1, selection='cyclic', tol=0.0001, warm_start=False))])"
      ]
     },
     "execution_count": 32,
     "metadata": {},
     "output_type": "execute_result"
    }
   ],
   "source": [
    "ENet.fit(train.values, y_train)"
   ]
  },
  {
   "cell_type": "code",
   "execution_count": 33,
   "metadata": {},
   "outputs": [],
   "source": [
    "final = ENet.predict(test)"
   ]
  },
  {
   "cell_type": "code",
   "execution_count": 34,
   "metadata": {},
   "outputs": [],
   "source": [
    "results = np.exp(ENet.predict(test))\n",
    "# results = np.expm1(ENet.predict(test))"
   ]
  },
  {
   "cell_type": "code",
   "execution_count": 35,
   "metadata": {},
   "outputs": [],
   "source": [
    "attempt = pd.DataFrame()\n",
    "attempt['Id'] = test_ID\n",
    "attempt['SalePrice'] = results\n",
    "attempt.to_csv('submit.csv', index=False)"
   ]
  },
  {
   "cell_type": "markdown",
   "metadata": {},
   "source": [
    "# Ensembling by Averaging"
   ]
  },
  {
   "cell_type": "markdown",
   "metadata": {},
   "source": [
    "the goal was to try and grab 2 random forest, 1 or 2 regression and 2 or 3 gbr. started with the models used in the kaggle jumpstart but liked my models better- discarded the random forest because it was underperforming compared to these other models"
   ]
  },
  {
   "cell_type": "code",
   "execution_count": 36,
   "metadata": {},
   "outputs": [],
   "source": [
    "class AveragingModels(BaseEstimator, RegressorMixin, TransformerMixin):\n",
    "    def __init__(self, models):\n",
    "        self.models = models\n",
    "    \n",
    "    #cloning models to fit the data\n",
    "    def fit(self, X, y):\n",
    "        self.models_ = [clone(x) for x in self.models]\n",
    "        \n",
    "        #training the cloned models\n",
    "        for model in self.models_:\n",
    "            model.fit(X, y)\n",
    "            \n",
    "        return self\n",
    "    \n",
    "    #predicting based on the cloned models\n",
    "    def predict(self, X):\n",
    "        predictions = np.column_stack([\n",
    "            model.predict(X) for model in self.models_])\n",
    "        #averaging the predictions\n",
    "        return np.mean(predictions, axis=1)"
   ]
  },
  {
   "cell_type": "code",
   "execution_count": 37,
   "metadata": {},
   "outputs": [],
   "source": [
    "import random\n",
    "\n",
    "def feature_importances(clf, X, y):\n",
    "    score = np.mean(cross_val_score(clf, X,y,scoring='roc_auc'))\n",
    "    importances = {} \n",
    "    for i in range(X.shape[1]):\n",
    "        X_perm = X.copy()\n",
    "        X_perm[:,i] = random.sample(X[:,i].tolist(), X.shape[0])\n",
    "        perm_score = np.mean(cross_val_score(clf, X_perm , y, scoring='roc_auc'))\n",
    "        importances[i] = score - perm_score\n",
    "\n",
    "    return importances"
   ]
  },
  {
   "cell_type": "code",
   "execution_count": 38,
   "metadata": {},
   "outputs": [],
   "source": [
    "averaged_models = AveragingModels(models = (ENet, GBoost, lasso, LGBoost))"
   ]
  },
  {
   "cell_type": "code",
   "execution_count": 39,
   "metadata": {},
   "outputs": [
    {
     "name": "stdout",
     "output_type": "stream",
     "text": [
      " Averaged base models score: 0.1085 (0.0142)\n",
      "\n"
     ]
    }
   ],
   "source": [
    "score = rmsle_cv(averaged_models)\n",
    "print(\" Averaged base models score: {:.4f} ({:.4f})\\n\".format(score.mean(), score.std()))"
   ]
  },
  {
   "cell_type": "code",
   "execution_count": 40,
   "metadata": {},
   "outputs": [
    {
     "data": {
      "text/plain": [
       "AveragingModels(models=(Pipeline(memory=None,\n",
       "     steps=[('robustscaler', RobustScaler(copy=True, quantile_range=(25.0, 75.0), with_centering=True,\n",
       "       with_scaling=True)), ('elasticnet', ElasticNet(alpha=0.0005, copy_X=True, fit_intercept=True, l1_ratio=0.9,\n",
       "      max_iter=1000, normalize=False, positive=False...      subsample=1.0, tol=0.0001, validation_fraction=0.1, verbose=0,\n",
       "             warm_start=False)))"
      ]
     },
     "execution_count": 40,
     "metadata": {},
     "output_type": "execute_result"
    }
   ],
   "source": [
    "averaged_models.fit(train.values, y_train)"
   ]
  },
  {
   "cell_type": "code",
   "execution_count": 41,
   "metadata": {},
   "outputs": [],
   "source": [
    "finalstack = averaged_models.predict(test)"
   ]
  },
  {
   "cell_type": "code",
   "execution_count": 42,
   "metadata": {},
   "outputs": [],
   "source": [
    "resultstack = np.exp(averaged_models.predict(test))\n",
    "# resultstack = np.expm1(averaged_models.predict(test))"
   ]
  },
  {
   "cell_type": "code",
   "execution_count": 43,
   "metadata": {},
   "outputs": [],
   "source": [
    "attempt = pd.DataFrame()\n",
    "attempt['Id'] = test_ID\n",
    "attempt['SalePrice'] = resultstack\n",
    "attempt.to_csv('stacksubmit.csv', index=False)"
   ]
  },
  {
   "cell_type": "code",
   "execution_count": null,
   "metadata": {},
   "outputs": [],
   "source": []
  }
 ],
 "metadata": {
  "kernelspec": {
   "display_name": "AMMI",
   "language": "python",
   "name": "ammi"
  },
  "language_info": {
   "codemirror_mode": {
    "name": "ipython",
    "version": 3
   },
   "file_extension": ".py",
   "mimetype": "text/x-python",
   "name": "python",
   "nbconvert_exporter": "python",
   "pygments_lexer": "ipython3",
   "version": "3.6.6"
  }
 },
 "nbformat": 4,
 "nbformat_minor": 2
}
